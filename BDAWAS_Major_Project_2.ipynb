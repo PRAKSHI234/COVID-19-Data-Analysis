{
  "nbformat": 4,
  "nbformat_minor": 0,
  "metadata": {
    "colab": {
      "provenance": []
    },
    "kernelspec": {
      "name": "python3",
      "display_name": "Python 3"
    },
    "language_info": {
      "name": "python"
    }
  },
  "cells": [
    {
      "cell_type": "code",
      "execution_count": 1,
      "metadata": {
        "id": "hPzse_mwqnjM"
      },
      "outputs": [],
      "source": [
        "from pyspark.sql import SparkSession\n",
        "from pyspark.sql.functions import col, lag, avg, round\n",
        "from pyspark.sql.window import Window"
      ]
    },
    {
      "cell_type": "markdown",
      "source": [
        "# Create Spark session"
      ],
      "metadata": {
        "id": "_9DfqxMDtoAo"
      }
    },
    {
      "cell_type": "code",
      "source": [
        "spark = SparkSession.builder \\\n",
        "    .appName(\"COVID19 Data Analysis\") \\\n",
        "    .getOrCreate()\n"
      ],
      "metadata": {
        "id": "IZnYmEyFtkJz"
      },
      "execution_count": 2,
      "outputs": []
    },
    {
      "cell_type": "markdown",
      "source": [
        "# Load dataset"
      ],
      "metadata": {
        "id": "OiJzaxtRuLRe"
      }
    },
    {
      "cell_type": "code",
      "source": [
        "df = spark.read.csv(\"owid-covid-data.csv\", header=True, inferSchema=True)"
      ],
      "metadata": {
        "id": "I4zHb_ZGuMx8"
      },
      "execution_count": 3,
      "outputs": []
    },
    {
      "cell_type": "markdown",
      "source": [
        "# Filter for relevant columns"
      ],
      "metadata": {
        "id": "qctNt8TXuU2G"
      }
    },
    {
      "cell_type": "code",
      "source": [
        "df_filtered = df.select(\"location\", \"date\", \"new_cases\", \"total_cases\") \\\n",
        "    .filter(col(\"location\").isin(\"India\", \"United States\", \"Brazil\")) \\\n",
        "    .filter(col(\"date\").isNotNull())"
      ],
      "metadata": {
        "id": "ShA0QW2juaNH"
      },
      "execution_count": 4,
      "outputs": []
    },
    {
      "cell_type": "markdown",
      "source": [
        "# Convert date column to proper type if needed"
      ],
      "metadata": {
        "id": "eAEG4qgZuimk"
      }
    },
    {
      "cell_type": "code",
      "source": [
        "from pyspark.sql.functions import to_date\n",
        "df_filtered = df_filtered.withColumn(\"date\", to_date(\"date\", \"yyyy-MM-dd\"))"
      ],
      "metadata": {
        "id": "WE9CeeyTumAv"
      },
      "execution_count": 5,
      "outputs": []
    },
    {
      "cell_type": "markdown",
      "source": [
        "# Window specification"
      ],
      "metadata": {
        "id": "xYotFbYgutsG"
      }
    },
    {
      "cell_type": "code",
      "source": [
        "window_spec = Window.partitionBy(\"location\").orderBy(\"date\")"
      ],
      "metadata": {
        "id": "thnm-w63uxnm"
      },
      "execution_count": 6,
      "outputs": []
    },
    {
      "cell_type": "markdown",
      "source": [
        "# Calculate daily growth rate (new_cases / lag(total_cases))"
      ],
      "metadata": {
        "id": "EkHNUlzZu19b"
      }
    },
    {
      "cell_type": "code",
      "source": [
        "df_with_growth = df_filtered.withColumn(\"prev_total_cases\", lag(\"total_cases\", 1).over(window_spec)) \\\n",
        "    .withColumn(\"daily_growth_rate\", round((col(\"new_cases\") / col(\"prev_total_cases\")) * 100, 2))"
      ],
      "metadata": {
        "id": "FWL7CVnGu5j6"
      },
      "execution_count": 7,
      "outputs": []
    },
    {
      "cell_type": "markdown",
      "source": [
        "# Calculate 7-day moving average of new cases"
      ],
      "metadata": {
        "id": "46IixLLEu92Z"
      }
    },
    {
      "cell_type": "code",
      "source": [
        "moving_avg_window = window_spec.rowsBetween(-6, 0)\n",
        "df_with_moving_avg = df_with_growth.withColumn(\"7_day_avg_new_cases\", round(avg(\"new_cases\").over(moving_avg_window), 2))"
      ],
      "metadata": {
        "id": "A6P0Lf6bvCpf"
      },
      "execution_count": 8,
      "outputs": []
    },
    {
      "cell_type": "markdown",
      "source": [
        "# Show final results"
      ],
      "metadata": {
        "id": "7asTHHO7vHcJ"
      }
    },
    {
      "cell_type": "code",
      "source": [
        "df_with_moving_avg.select(\"location\", \"date\", \"new_cases\", \"daily_growth_rate\", \"7_day_avg_new_cases\").show()"
      ],
      "metadata": {
        "colab": {
          "base_uri": "https://localhost:8080/"
        },
        "id": "Nf605Z1jvKWR",
        "outputId": "e1b7c732-691b-4e31-ad24-93a8139ac5d5"
      },
      "execution_count": 9,
      "outputs": [
        {
          "output_type": "stream",
          "name": "stdout",
          "text": [
            "+--------+----------+---------+-----------------+-------------------+\n",
            "|location|      date|new_cases|daily_growth_rate|7_day_avg_new_cases|\n",
            "+--------+----------+---------+-----------------+-------------------+\n",
            "|  Brazil|2020-01-05|        0|             NULL|                0.0|\n",
            "|  Brazil|2020-01-06|        0|             NULL|                0.0|\n",
            "|  Brazil|2020-01-07|        0|             NULL|                0.0|\n",
            "|  Brazil|2020-01-08|        0|             NULL|                0.0|\n",
            "|  Brazil|2020-01-09|        0|             NULL|                0.0|\n",
            "|  Brazil|2020-01-10|        0|             NULL|                0.0|\n",
            "|  Brazil|2020-01-11|        0|             NULL|                0.0|\n",
            "|  Brazil|2020-01-12|        0|             NULL|                0.0|\n",
            "|  Brazil|2020-01-13|        0|             NULL|                0.0|\n",
            "|  Brazil|2020-01-14|        0|             NULL|                0.0|\n",
            "|  Brazil|2020-01-15|        0|             NULL|                0.0|\n",
            "|  Brazil|2020-01-16|        0|             NULL|                0.0|\n",
            "|  Brazil|2020-01-17|        0|             NULL|                0.0|\n",
            "|  Brazil|2020-01-18|        0|             NULL|                0.0|\n",
            "|  Brazil|2020-01-19|        0|             NULL|                0.0|\n",
            "|  Brazil|2020-01-20|        0|             NULL|                0.0|\n",
            "|  Brazil|2020-01-21|        0|             NULL|                0.0|\n",
            "|  Brazil|2020-01-22|        0|             NULL|                0.0|\n",
            "|  Brazil|2020-01-23|        0|             NULL|                0.0|\n",
            "|  Brazil|2020-01-24|        0|             NULL|                0.0|\n",
            "+--------+----------+---------+-----------------+-------------------+\n",
            "only showing top 20 rows\n",
            "\n"
          ]
        }
      ]
    }
  ]
}